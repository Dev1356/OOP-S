{
 "cells": [
  {
   "cell_type": "markdown",
   "id": "ce328894-74b7-4adb-ba15-2698821d8126",
   "metadata": {},
   "source": [
    "### Q1 Create a vehicle class with an init method having instance variables as name_of_vehicle, max_speed\n",
    "### and average_of_vehicle."
   ]
  },
  {
   "cell_type": "code",
   "execution_count": 1,
   "id": "8e20a342-ce8b-432a-b3fe-036dbd43b5bd",
   "metadata": {},
   "outputs": [],
   "source": [
    "class vehicle:\n",
    "    def __init__(self,name,speed,average):\n",
    "        self.name=name\n",
    "        self.speed=speed\n",
    "        self.average=average\n",
    "    def vehical_detailes(self) :\n",
    "        print(self.name,self.speed,self.average)\n",
    "    "
   ]
  },
  {
   "cell_type": "code",
   "execution_count": 2,
   "id": "1b7ad138-6f61-4ef9-8b41-4d400dd82bf6",
   "metadata": {},
   "outputs": [],
   "source": [
    "Toyota=vehicle(\"Innova\",200,15)"
   ]
  },
  {
   "cell_type": "code",
   "execution_count": 5,
   "id": "d418fffa-618a-427f-ad91-088defa2ab94",
   "metadata": {},
   "outputs": [
    {
     "data": {
      "text/plain": [
       "'Innova'"
      ]
     },
     "execution_count": 5,
     "metadata": {},
     "output_type": "execute_result"
    }
   ],
   "source": [
    "Toyota.name"
   ]
  },
  {
   "cell_type": "code",
   "execution_count": 6,
   "id": "33fbfbc9-5848-44ed-93dc-43f770a2f933",
   "metadata": {},
   "outputs": [
    {
     "data": {
      "text/plain": [
       "200"
      ]
     },
     "execution_count": 6,
     "metadata": {},
     "output_type": "execute_result"
    }
   ],
   "source": [
    "Toyota.speed"
   ]
  },
  {
   "cell_type": "code",
   "execution_count": 7,
   "id": "d20cd4a8-cb61-4d13-a0e0-24ab18861479",
   "metadata": {},
   "outputs": [
    {
     "data": {
      "text/plain": [
       "15"
      ]
     },
     "execution_count": 7,
     "metadata": {},
     "output_type": "execute_result"
    }
   ],
   "source": [
    "Toyota.average"
   ]
  },
  {
   "cell_type": "code",
   "execution_count": 3,
   "id": "2de01aec-14f8-4812-b585-7d46ea428819",
   "metadata": {},
   "outputs": [
    {
     "name": "stdout",
     "output_type": "stream",
     "text": [
      "Innova 200 15\n"
     ]
    }
   ],
   "source": [
    "Toyota.vehical_detailes()"
   ]
  },
  {
   "cell_type": "code",
   "execution_count": null,
   "id": "3f2a4503-2225-491f-8dd0-b468a097949a",
   "metadata": {},
   "outputs": [],
   "source": []
  },
  {
   "cell_type": "markdown",
   "id": "92d2fe52-5a50-47d0-b626-0d0af7154a45",
   "metadata": {},
   "source": [
    "### Q2. Create a child class car from the vehicle class created in Que 1, which will inherit the vehicle class.\n",
    "### Create a method named seating_capacity which takes capacity as an argument and returns the name of\n",
    "### the vehicle and its seating capacity."
   ]
  },
  {
   "cell_type": "code",
   "execution_count": 40,
   "id": "e4de01a9-7055-4e2b-8710-8ee6fa27c6e3",
   "metadata": {},
   "outputs": [],
   "source": [
    "class vehicle:\n",
    "    def __init__(self,name,speed,average):\n",
    "        self.name=name\n",
    "        self.speed=speed\n",
    "        self.average=average\n",
    "    def vehical_detailes(self) :\n",
    "        print(self.name,self.speed,self.average)\n",
    "        \n",
    "###  Child Class\n",
    "    def seating_capacity(self,capacity):\n",
    "        return f\"{self.name} has a seating capacity {capacity} people\""
   ]
  },
  {
   "cell_type": "code",
   "execution_count": 41,
   "id": "c7d3c5dd-1309-49aa-800b-b9083850adad",
   "metadata": {},
   "outputs": [
    {
     "name": "stdout",
     "output_type": "stream",
     "text": [
      "Innova has a seating capacity 7 people\n"
     ]
    }
   ],
   "source": [
    "Toyota=vehicle(\"Innova\",200,15)\n",
    "capacity=7\n",
    "Seating_capacity=Toyota.seating_capacity(capacity)\n",
    "print(Seating_capacity)"
   ]
  },
  {
   "cell_type": "code",
   "execution_count": null,
   "id": "03a570d0-b16b-48db-a633-d8452546392d",
   "metadata": {},
   "outputs": [],
   "source": []
  },
  {
   "cell_type": "markdown",
   "id": "5a5d451d-898c-469a-b5c8-108d54055f05",
   "metadata": {},
   "source": [
    "### Q3. What is multiple inheritance? Write a python code to demonstrate multiple inheritance."
   ]
  },
  {
   "cell_type": "raw",
   "id": "98d44423-0816-4d0c-9eeb-e25302b4afb6",
   "metadata": {},
   "source": [
    "Ans:--Multiple inheritance is a feature in object-oriented programming where a class can inherit from multiple parent classes. This allows the child class to have the attributes and methods of all its parent classes."
   ]
  },
  {
   "cell_type": "code",
   "execution_count": 42,
   "id": "069eea05-5d5e-45ba-a65b-4c0b742ff2ff",
   "metadata": {},
   "outputs": [],
   "source": [
    "class class1:\n",
    "    def test_class1(self):\n",
    "        print(\"this is my class1\")"
   ]
  },
  {
   "cell_type": "code",
   "execution_count": 43,
   "id": "e79ed1c4-1c16-469d-a025-ad0a08c7261a",
   "metadata": {},
   "outputs": [],
   "source": [
    "class class2(class1):\n",
    "    def test_class2(self):\n",
    "        print(\"this is my class2\")"
   ]
  },
  {
   "cell_type": "code",
   "execution_count": 44,
   "id": "fbe06e27-3ac9-4a4c-aeb1-3a4b42e4ee02",
   "metadata": {},
   "outputs": [],
   "source": [
    "class class3(class2):\n",
    "    def test_class3(self):\n",
    "        print(\"this is my class3\")"
   ]
  },
  {
   "cell_type": "code",
   "execution_count": 45,
   "id": "ff3dfc42-7dbf-49a0-a5c9-f7ecf27dcc6d",
   "metadata": {},
   "outputs": [],
   "source": [
    "obj_class3=class3()"
   ]
  },
  {
   "cell_type": "code",
   "execution_count": 46,
   "id": "302c7368-606f-4177-a5ac-45440510f9f9",
   "metadata": {},
   "outputs": [
    {
     "name": "stdout",
     "output_type": "stream",
     "text": [
      "this is my class1\n"
     ]
    }
   ],
   "source": [
    "obj_class3.test_class1()"
   ]
  },
  {
   "cell_type": "code",
   "execution_count": 47,
   "id": "75372cc4-8ff2-460e-814e-57af29e362eb",
   "metadata": {},
   "outputs": [
    {
     "name": "stdout",
     "output_type": "stream",
     "text": [
      "this is my class2\n"
     ]
    }
   ],
   "source": [
    "obj_class3.test_class2()"
   ]
  },
  {
   "cell_type": "code",
   "execution_count": null,
   "id": "7ad4f2ae-488f-461e-acd1-3ec747dfd1de",
   "metadata": {},
   "outputs": [],
   "source": []
  },
  {
   "cell_type": "markdown",
   "id": "c2e188ae-e041-483f-9baf-748d7917d8bc",
   "metadata": {},
   "source": [
    "### Q4. What are getter and setter in python? Create a class and create a getter and a setter method in this\n",
    "### class."
   ]
  },
  {
   "cell_type": "markdown",
   "id": "54d88054-d965-4902-80d4-4f45aaa45bd3",
   "metadata": {},
   "source": [
    "##### Ans:-Getter and setter methods are used to access and modify the values of private instance variables in Python classes. Private instance variables are those that are intended to be used within the class only, and are denoted by a leading underscore conventionally.\n",
    "\n",
    "##### A getter method is used to retrieve the value of a private instance variable, while a setter method is used to modify the value of a private instance variable.\n",
    "\n",
    "##### Here's an example of how to create a class with a private instance variable and getter and setter methods:"
   ]
  },
  {
   "cell_type": "code",
   "execution_count": 49,
   "id": "6fccd574-9d15-4387-b4b9-43d2c4c8143e",
   "metadata": {},
   "outputs": [],
   "source": [
    "class MyClass:\n",
    "    def __init__(self):\n",
    "        self._my_var = None\n",
    "\n",
    "    def get_my_var(self):\n",
    "        return self._my_var\n",
    "\n",
    "    def set_my_var(self, value):\n",
    "        self._my_var = value"
   ]
  },
  {
   "cell_type": "code",
   "execution_count": 50,
   "id": "41bba3fe-b2e4-42a3-90ae-d8bd7713d868",
   "metadata": {},
   "outputs": [
    {
     "name": "stdout",
     "output_type": "stream",
     "text": [
      "None\n",
      "42\n"
     ]
    }
   ],
   "source": [
    "obj = MyClass()\n",
    "print(obj.get_my_var()) \n",
    "obj.set_my_var(42)\n",
    "print(obj.get_my_var())"
   ]
  },
  {
   "cell_type": "markdown",
   "id": "8d607cc9-f8c7-4d76-8072-fc1a52cf2bd1",
   "metadata": {},
   "source": [
    "### Q5.What is method overriding in python? Write a python code to demonstrate method overriding."
   ]
  },
  {
   "cell_type": "markdown",
   "id": "41f97244-55a4-4522-bbfb-012f2fa90538",
   "metadata": {},
   "source": [
    "##### Ans:-  Method overriding is a feature in object-oriented programming where a child class provides a method with the same name as a method in its parent class, thus replacing the implementation of the parent class method.\n",
    "\n",
    "##### Here's an example of how to use method overriding in Python:"
   ]
  },
  {
   "cell_type": "code",
   "execution_count": 51,
   "id": "b7f729cb-f469-4e12-af2d-a7c9891f2db8",
   "metadata": {},
   "outputs": [
    {
     "name": "stdout",
     "output_type": "stream",
     "text": [
      "Starting the vehicle...\n",
      "Starting the car...\n"
     ]
    }
   ],
   "source": [
    "class Vehicle:\n",
    "    def start(self):\n",
    "        print(\"Starting the vehicle...\")\n",
    "\n",
    "class Car(Vehicle):\n",
    "    def start(self):\n",
    "        print(\"Starting the car...\")\n",
    "\n",
    "vehicle = Vehicle()\n",
    "vehicle.start() \n",
    "\n",
    "car = Car()\n",
    "car.start() "
   ]
  },
  {
   "cell_type": "code",
   "execution_count": null,
   "id": "b11f6671-dc3f-4452-940c-1516a9c74757",
   "metadata": {},
   "outputs": [],
   "source": []
  }
 ],
 "metadata": {
  "kernelspec": {
   "display_name": "Python 3 (ipykernel)",
   "language": "python",
   "name": "python3"
  },
  "language_info": {
   "codemirror_mode": {
    "name": "ipython",
    "version": 3
   },
   "file_extension": ".py",
   "mimetype": "text/x-python",
   "name": "python",
   "nbconvert_exporter": "python",
   "pygments_lexer": "ipython3",
   "version": "3.10.8"
  }
 },
 "nbformat": 4,
 "nbformat_minor": 5
}
